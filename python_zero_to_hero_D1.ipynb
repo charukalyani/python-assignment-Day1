{
  "nbformat": 4,
  "nbformat_minor": 0,
  "metadata": {
    "colab": {
      "name": "python zero to hero D1.ipynb",
      "provenance": [],
      "authorship_tag": "ABX9TyO+VeM5x4mYoa/YGhRtofr6",
      "include_colab_link": true
    },
    "kernelspec": {
      "name": "python3",
      "display_name": "Python version 3.0"
    },
    "language_info": {
      "name": "python"
    }
  },
  "cells": [
    {
      "cell_type": "markdown",
      "metadata": {
        "id": "view-in-github",
        "colab_type": "text"
      },
      "source": [
        "<a href=\"https://colab.research.google.com/github/charukalyani/python-assignment-Day1/blob/main/python_zero_to_hero_D1.ipynb\" target=\"_parent\"><img src=\"https://colab.research.google.com/assets/colab-badge.svg\" alt=\"Open In Colab\"/></a>"
      ]
    },
    {
      "cell_type": "code",
      "metadata": {
        "colab": {
          "base_uri": "https://localhost:8080/"
        },
        "id": "RVUQUUQphBdr",
        "outputId": "67fd5b57-c766-4362-ba8d-b20286856878"
      },
      "source": [
        "# Assignment - Take two inputs & store in variable x & y , find x raised to the power y.\n",
        "\n",
        "x = 2\n",
        "y = 10 \n",
        "\n",
        "print(x**y)"
      ],
      "execution_count": 23,
      "outputs": [
        {
          "output_type": "stream",
          "text": [
            "1024\n"
          ],
          "name": "stdout"
        }
      ]
    }
  ]
}
